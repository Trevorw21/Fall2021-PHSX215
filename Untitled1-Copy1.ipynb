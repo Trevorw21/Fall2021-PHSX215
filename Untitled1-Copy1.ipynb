{
 "cells": [
  {
   "cell_type": "code",
   "execution_count": 43,
   "id": "a8766a81",
   "metadata": {},
   "outputs": [
    {
     "name": "stdout",
     "output_type": "stream",
     "text": [
      "error rule 4= 0.012612523422496602\n"
     ]
    }
   ],
   "source": [
    "import numpy as np\n",
    "\n",
    "#deffinitions of the variables are described first by constant=c, data=d, error=e,\n",
    "#then by what order they appear in a,b,c..., then by the number of the rule they apply to 1,2,3,4\n",
    "\n",
    "#the variables themselves are described by constant=c, data=d, error=e, then by the rule they apply to 1,2,3,4,\n",
    "#and lastly by what order they appear in 1,2,3...\n",
    "\n",
    "\n",
    "\n",
    "#Rule 1: if Q=cA where c is constant\n",
    "\n",
    "def rule1(ca1,ea1):\n",
    "    dQ1 = np.abs(ca1*ea1)\n",
    "    return dQ1\n",
    "\n",
    "c1_1 = 1\n",
    "errd1_1 = 1\n",
    "errdtotal1 = rule1(c1_1,errd1_1)\n",
    "#print (\"error rule 1=\",errdtotal1)\n",
    "\n",
    "#rule 2: if Q=cA^m where c and m are constants\n",
    "\n",
    "def rule2(ca2,cb2,da2,ea2):\n",
    "    dQ2 = np.abs(ca2*cb2*da2**(cb2-1)*ea2)\n",
    "    return dQ2\n",
    "\n",
    "c2_1 = 1\n",
    "c2_2 = 1\n",
    "d2_1 = 1\n",
    "errd2_1 = 1\n",
    "errdtotal2 = rule2(c2_1,c2_2,d2_1,errd2_1)\n",
    "#print (\"error rule 2=\",errdtotal2)\n",
    "\n",
    "#Rule 3: if Q=A+B or Q=A-B\n",
    "\n",
    "def rule3(da3,db3):\n",
    "    dQ3 = np.sqrt(da3**2+db3**2)\n",
    "    return dQ3\n",
    "\n",
    "d3_1 = 1\n",
    "d3_2 = 1\n",
    "errd3_1 = 1\n",
    "errd3_2 = 1\n",
    "errdtotal3 = rule3(errd3_1,errd3_2)\n",
    "#print (\"error rule 3=\",errdtotal3)\n",
    "\n",
    "#rule 4: if Q=A^m*B^n where m,n are constants\n",
    "#q is a value that is calculated before finding the uncertainty. (usually the value you try and find in the lab)\n",
    "def rule4(ca4,cb4,cc4,da4,db4,dc4,ea4,eb4,ec4,Q4):\n",
    "    dQ4 = np.sqrt(((ca4*ea4)/da4)**2+((cb4*eb4)/db4)**2+((cc4*ec4)/dc4)**2)*Q4\n",
    "    return dQ4\n",
    "Q4 = 3.42\n",
    "c4_1 = 1\n",
    "c4_2 = 1/2\n",
    "c4_3 = 0\n",
    "d4_1 = 154\n",
    "d4_2 = .993\n",
    "d4_3 = 1\n",
    "errd4_1 = .415\n",
    "errd4_2 = .005\n",
    "errd4_3 = 1\n",
    "errdtotal4 = rule4(c4_1,c4_2,c4_3,d4_1,d4_2,d4_3,errd4_1,errd4_2,errd4_3,Q4)\n",
    "print (\"error rule 4=\",errdtotal4)\n",
    "\n",
    "\n",
    "\n",
    "\n",
    "\n",
    "\n",
    "\n"
   ]
  },
  {
   "cell_type": "code",
   "execution_count": null,
   "id": "ab3b222a",
   "metadata": {},
   "outputs": [],
   "source": [
    "#my error for the second method using the code was .0126 and my hand calculated error was .0152.\n",
    "#there is a slight error in my calculations."
   ]
  },
  {
   "cell_type": "code",
   "execution_count": 38,
   "id": "ad1deee2",
   "metadata": {
    "scrolled": true
   },
   "outputs": [
    {
     "name": "stdout",
     "output_type": "stream",
     "text": [
      "standard dev x= 0.3766629793329841\n",
      "xmean= 1.375\n",
      "margin of error= 0.18833148966649205\n"
     ]
    }
   ],
   "source": [
    "#standard deviation\n",
    "\n",
    "x = np.array([1,2,1.2,1.3])\n",
    "std_x = np.std(x)\n",
    "print (\"standard dev x=\",std_x)\n",
    "xmean = np.average(x)\n",
    "print (\"xmean=\",xmean)\n",
    "len_x = len(x)\n",
    "xmargin_err = std_x/(len_x**.5)\n",
    "print (\"margin of error=\",xmargin_err)"
   ]
  },
  {
   "cell_type": "markdown",
   "id": "6345e404",
   "metadata": {},
   "source": [
    "$\\delta Q = \\sqrt{(\\delta A)^2+(\\delta B)^2}$"
   ]
  },
  {
   "cell_type": "markdown",
   "id": "28d6a73f",
   "metadata": {},
   "source": [
    "$\\delta Q = \\sigma/{\\sqrt{N}}$"
   ]
  },
  {
   "cell_type": "code",
   "execution_count": null,
   "id": "f3e8744a",
   "metadata": {},
   "outputs": [],
   "source": []
  }
 ],
 "metadata": {
  "kernelspec": {
   "display_name": "Python 3",
   "language": "python",
   "name": "python3"
  },
  "language_info": {
   "codemirror_mode": {
    "name": "ipython",
    "version": 3
   },
   "file_extension": ".py",
   "mimetype": "text/x-python",
   "name": "python",
   "nbconvert_exporter": "python",
   "pygments_lexer": "ipython3",
   "version": "3.8.8"
  }
 },
 "nbformat": 4,
 "nbformat_minor": 5
}
